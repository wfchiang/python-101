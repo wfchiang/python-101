{
 "cells": [
  {
   "cell_type": "markdown",
   "metadata": {},
   "source": [
    "# 基本資料型態\n",
    "\n",
    "Python 程序中，資料分許多型態。比如，是/否 (boolean)，整數 (integer)，浮點數 (floating-point)，文字 (string)。還有一些稍微複雜的像是串列 (array)，字典 (dictionary)，甚至可以自訂型態呢！\n",
    "\n",
    "今天我們就只聊聊幾種基本的型態：\n",
    "* 是/否 (boolean)\n",
    "* 整數 (integer)\n",
    "* 浮點數 (floating-point)\n",
    "* 文字 (string)\n",
    "\n",
    "為什麼要分資料型態呢？因為不同的資料型態有不同的 \"範圍\"，也支援不同的 \"運算\"。\n",
    "\n",
    "## 是/否 -- boolean\n",
    "\n",
    "我相信大家的逻辑运算是靠谱的，但这里还是给大家一个简单快速的复习\n",
    "\n",
    "* True and True is True\n",
    "* True and False is False\n",
    "* False and False is False\n",
    "* True or True is True\n",
    "* True or False is True\n",
    "* False or False is False\n",
    "\n",
    "接着，我們先看看以下的程序\n"
   ]
  },
  {
   "cell_type": "code",
   "execution_count": null,
   "metadata": {},
   "outputs": [],
   "source": [
    "I_am_iron_man = True \n",
    "I_am_superman = False"
   ]
  },
  {
   "cell_type": "markdown",
   "metadata": {},
   "source": [
    "这里我们产生两个变数 \"I_am_iron_man\" 与 \"I_am_superman\"。他们分别记忆 \"boolean\" 型态的资料。这种 boolean 型态只可能有两种资料：True 或 False。根据这样的资料，我们可以做一些 boolean 资料运算。比如\n"
   ]
  },
  {
   "cell_type": "code",
   "execution_count": null,
   "metadata": {},
   "outputs": [],
   "source": [
    "I_am_iron_man = True \n",
    "I_am_superman = False\n",
    "\n",
    "I_am_the_both = I_am_iron_man and I_am_superman \n",
    "print (I_am_the_both)\n",
    "\n",
    "I_am_a_hero = I_am_iron_man or I_am_superman\n",
    "print (I_am_a_hero)"
   ]
  },
  {
   "cell_type": "markdown",
   "metadata": {},
   "source": [
    "我们先进行一个简单的逻辑运算： \"我既是 Iron Man 又是 Superman 吗？\" 然后我们把结果储存到一个新的变数 \"I_am_the_both\" 中。这个逻辑运算我们用以下程序完成\n",
    "\n",
    "```python3\n",
    "I_am_the_both = I_am_iron_man and I_am_superman\n",
    "```\n",
    "\n",
    "这里进行的运算是 True and False，结果是 False\n",
    "\n",
    "我们再进行另一个逻辑运算 \"我是 Iron Man 或是 Superman？\" 并把结果储存到新变数 \"I_am_a_hero\" 中。这个运算我们用以下程序完成\n",
    "\n",
    "```python3\n",
    "I_am_a_hero = I_am_iron_man or I_am_superman\n",
    "```\n",
    "\n",
    "这里进行的运算是 True or False，结果是 True \n"
   ]
  },
  {
   "cell_type": "markdown",
   "metadata": {},
   "source": [
    "## 整数 -- integer\n",
    "\n",
    "我们在 变数 (variables) 单元里其实已经简单演示过了一些整数运算了。这里我们用个简单的国中数学复习一下\n"
   ]
  },
  {
   "cell_type": "code",
   "execution_count": 4,
   "metadata": {},
   "outputs": [
    {
     "output_type": "stream",
     "name": "stdout",
     "text": "25\n"
    }
   ],
   "source": [
    "a = 3 \n",
    "b = 4\n",
    "c = a * a + b * b\n",
    "print (c)"
   ]
  },
  {
   "cell_type": "markdown",
   "metadata": {},
   "source": [
    "我希望你对于结果是 25 不要感到疑惑...\n",
    "\n",
    "### 关于 \"除法\" ...\n"
   ]
  }
 ],
 "metadata": {
  "language_info": {
   "codemirror_mode": {
    "name": "ipython",
    "version": 3
   },
   "file_extension": ".py",
   "mimetype": "text/x-python",
   "name": "python",
   "nbconvert_exporter": "python",
   "pygments_lexer": "ipython3",
   "version": 3
  },
  "orig_nbformat": 2,
  "kernelspec": {
   "name": "python_defaultSpec_1596842223538",
   "display_name": "Python 3.6.9 64-bit"
  }
 },
 "nbformat": 4,
 "nbformat_minor": 2
}