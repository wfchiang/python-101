{
 "cells": [
  {
   "cell_type": "markdown",
   "metadata": {},
   "source": [
    "# 变数 Variables\n",
    "\n",
    "在程序中产生一个变数，variable，就好像是你叫计算机去记忆一个资料。例如，记忆一个数字。\n",
    "下面这一行程序产生一个变数，名为 \"John_age\"。你可能用这个变数来记忆 John 今年几岁这个资讯。\n",
    "\n",
    "```python3\n",
    "John_age = 3\n",
    "```\n",
    "\n",
    "试着运行下面这段程序吧！\n"
   ]
  },
  {
   "cell_type": "code",
   "execution_count": null,
   "metadata": {},
   "outputs": [],
   "source": [
    "John_age = 3\n",
    "print (John_age)"
   ]
  },
  {
   "cell_type": "markdown",
   "metadata": {},
   "source": [
    "```python3\n",
    "print (John_age)\n",
    "```\n",
    "\n",
    "这一行是叫计算机显示 \"John_age\" 这个变数目前有什么资料。既然我们透过\n",
    "\n",
    "```python3\n",
    "John_age = 3\n",
    "```\n",
    "\n",
    "告诉他 \"John_age\" 是 3，计算机当然就显示 3 啰。\n",
    "\n",
    "现在，试着运行下面这段程序\n"
   ]
  },
  {
   "cell_type": "code",
   "execution_count": null,
   "metadata": {},
   "outputs": [],
   "source": [
    "John_age = 3 \n",
    "print (John_age)\n",
    "John_age = 4\n",
    "print (John_age)"
   ]
  },
  {
   "cell_type": "markdown",
   "metadata": {},
   "source": [
    "同一个变数，John_age，我们可以变更他记忆的资料，本来是 3，我们透过\n",
    "\n",
    "```python3\n",
    "John_age = 4\n",
    "```\n",
    "\n",
    "变更他的资料为 4。是不是很简单呢？\n",
    "\n",
    "现在试试看下面这段程序\n"
   ]
  },
  {
   "cell_type": "code",
   "execution_count": null,
   "metadata": {},
   "outputs": [],
   "source": [
    "print (Mary_age)"
   ]
  },
  {
   "cell_type": "markdown",
   "metadata": {},
   "source": [
    "你应该要得到一段看起来向这样的错误讯息\n",
    "\n",
    "```\n",
    "---------------------------------------------------------------------------\n",
    "NameError                                 Traceback (most recent call last)\n",
    " in \n",
    "----> 1 print (Mary_age)\n",
    "\n",
    "NameError: name 'Mary_age' is not defined\n",
    "```\n",
    "\n",
    "为什么计算机报错呢？因为你没头没尾就问计算机 \"Mary_age 里面的资料是什么？\" \n",
    "你从来就没有告诉过计算机 \"Mary_age\" 是什么！计算机表示很委屈，所以就向你报错了。\n",
    "\n",
    "改成\n",
    "\n",
    "```python3\n",
    "Mary_age = 100\n",
    "print (Mary_age)\n",
    "```\n",
    "\n",
    "就可以了。\n"
   ]
  }
 ],
 "metadata": {
  "language_info": {
   "codemirror_mode": {
    "name": "ipython",
    "version": 3
   },
   "file_extension": ".py",
   "mimetype": "text/x-python",
   "name": "python",
   "nbconvert_exporter": "python",
   "pygments_lexer": "ipython3",
   "version": 3
  },
  "orig_nbformat": 2,
  "kernelspec": {
   "name": "python_defaultSpec_1596812256472",
   "display_name": "Python 3.6.9 64-bit"
  }
 },
 "nbformat": 4,
 "nbformat_minor": 2
}