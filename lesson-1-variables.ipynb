{
 "cells": [
  {
   "cell_type": "markdown",
   "metadata": {},
   "source": [
    "# 变数 Variables\n",
    "\n",
    "在程序中产生一个变数，variable，就好像是你叫计算机去记忆一个资料。例如，记忆一个数字。\n",
    "下面这一行程序产生一个变数，名为 \"John_age\"。你可能用这个变数来记忆 John 今年几岁这个资讯。\n",
    "\n",
    "```python3\n",
    "John_age = 3\n",
    "```\n",
    "\n",
    "试着运行下面这段程序吧！\n"
   ]
  },
  {
   "cell_type": "code",
   "execution_count": 2,
   "metadata": {},
   "outputs": [
    {
     "output_type": "stream",
     "name": "stdout",
     "text": "3\n"
    }
   ],
   "source": [
    "John_age = 3\n",
    "print (John_age)"
   ]
  },
  {
   "cell_type": "markdown",
   "metadata": {},
   "source": [
    "```python3\n",
    "print (John_age)\n",
    "```\n",
    "\n",
    "这一行是叫计算机显示 \"John_age\" 这个变数目前有什么资料。既然我们透过\n",
    "\n",
    "```python3\n",
    "John_age = 3\n",
    "```\n",
    "\n",
    "告诉他 \"John_age\" 是 3，计算机当然就显示 3 啰。\n",
    "\n",
    "现在，试着运行下面这段程序\n"
   ]
  },
  {
   "cell_type": "code",
   "execution_count": 3,
   "metadata": {},
   "outputs": [
    {
     "output_type": "stream",
     "name": "stdout",
     "text": "3\n4\n"
    }
   ],
   "source": [
    "John_age = 3 \n",
    "print (John_age)\n",
    "John_age = 4\n",
    "print (John_age)"
   ]
  },
  {
   "cell_type": "code",
   "execution_count": null,
   "metadata": {},
   "outputs": [],
   "source": []
  }
 ],
 "metadata": {
  "language_info": {
   "codemirror_mode": {
    "name": "ipython",
    "version": 3
   },
   "file_extension": ".py",
   "mimetype": "text/x-python",
   "name": "python",
   "nbconvert_exporter": "python",
   "pygments_lexer": "ipython3",
   "version": 3
  },
  "orig_nbformat": 2,
  "kernelspec": {
   "name": "python_defaultSpec_1596812256472",
   "display_name": "Python 3.6.9 64-bit"
  }
 },
 "nbformat": 4,
 "nbformat_minor": 2
}