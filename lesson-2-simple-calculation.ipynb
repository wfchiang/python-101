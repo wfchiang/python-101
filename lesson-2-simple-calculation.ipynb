{
 "cells": [
  {
   "cell_type": "markdown",
   "metadata": {},
   "source": [
    "# 简单运算\n",
    "\n",
    "明白 \"变数\"，variables，是什么了吗？\n",
    "太好了，我们立马就来试试看让计算机做简单的运算吧！\n",
    "\n",
    "试着运行下面的程序\n"
   ]
  },
  {
   "cell_type": "code",
   "execution_count": null,
   "metadata": {},
   "outputs": [],
   "source": [
    "John_age = 18 + 1\n",
    "print (John_age)"
   ]
  },
  {
   "cell_type": "markdown",
   "metadata": {},
   "source": [
    "看起来很简单吧？你应该要得到 \"19\" 作为结果。因为... 18 + 1 就是 19 嘛\n",
    "\n",
    "试试看你能不能理解下面这段程序\n"
   ]
  },
  {
   "cell_type": "code",
   "execution_count": null,
   "metadata": {},
   "outputs": [],
   "source": [
    "John_age = 18 \n",
    "print (John_age)\n",
    "John_age = John_age + 1\n",
    "print (John_age)"
   ]
  },
  {
   "cell_type": "markdown",
   "metadata": {},
   "source": [
    "计算机出的结果应该先是 18，后是 19。本来 John_age 就是 18，但是\n",
    "\n",
    "```python3\n",
    "John_age = John_age + 1\n",
    "```\n",
    "\n",
    "这行程序告诉计算机依序去做以下这几件事\n",
    "\n",
    "1. 拿出 John_age 里面的资料，就是 18\n",
    "2. 计算 18 + 1，得到 19\n",
    "3. 把 19 更新到 John_age 这个变数里\n",
    "\n",
    "所以在运行完\n",
    "\n",
    "```python3\n",
    "John_age = John_age + 1\n",
    "```\n",
    "\n",
    "我们成功的把 John_age 更新为 19 了。\n",
    "来试试看下面段程序吧！\n"
   ]
  },
  {
   "cell_type": "code",
   "execution_count": null,
   "metadata": {},
   "outputs": [],
   "source": [
    "John_age = 18 \n",
    "print (John_age) \n",
    "\n",
    "John_age = John_age + 1\n",
    "print (John_age) \n",
    "\n",
    "John_age = John_age - 2 \n",
    "print (John_age)\n",
    "\n",
    "John_age = John_age * 2\n",
    "print (John_age)\n",
    "\n",
    "John_age = John_age / 3\n",
    "print (John_age)"
   ]
  },
  {
   "cell_type": "markdown",
   "metadata": {},
   "source": [
    "这里有 5 个\n",
    "\n",
    "```python3\n",
    "print (John_age)\n",
    "```\n",
    "\n",
    "让我们一个一个来看他们背后的运算\n",
    "\n",
    "1. 第 1 个，\"print (John_age)\" 得到 18，没有异议吧？\n",
    "2. 第 2 个，\"print (John_age)\" 得到 19，我们先前解试过原因了\n",
    "3. 第 3 个，\"print (John_age)\" 得到 17，因为当我们在运算 \"John_age - 2\" 时，\"John_age\" 里面记忆的资料是 19，所以计算 19 - 2 得到 17\n",
    "4. 第 4 个，\"print (John_age)\" 得到 34，因为在运算 \"John_age * 2\" 时，John_age 是 17\n",
    "5. 第 5 个，\"print (John_age)\" 得到 11.3333... 因为在运算 \"John_age / 3\" 时，John_age 已经是 34 了"
   ]
  }
 ],
 "metadata": {
  "language_info": {
   "codemirror_mode": {
    "name": "ipython",
    "version": 3
   },
   "file_extension": ".py",
   "mimetype": "text/x-python",
   "name": "python",
   "nbconvert_exporter": "python",
   "pygments_lexer": "ipython3",
   "version": 3
  },
  "orig_nbformat": 2,
  "kernelspec": {
   "name": "python_defaultSpec_1596818152804",
   "display_name": "Python 3.6.9 64-bit"
  }
 },
 "nbformat": 4,
 "nbformat_minor": 2
}