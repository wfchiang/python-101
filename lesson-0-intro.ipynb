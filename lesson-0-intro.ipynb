{
 "cells": [
  {
   "cell_type": "markdown",
   "metadata": {},
   "source": [
    "# 写程序的意义\n",
    "\n",
    "写程序就好像你在跟计算机一起工作一样。你是老大，计算机是你的小弟。\n",
    "\n",
    "* 你这个老大知道要做什么，但是你做事效率很低\n",
    "\n",
    "* 计算机这个小弟做事效率很高，但是他很笨，什么都不知道\n",
    "\n",
    "是的，你没有听错，我刚说了 \"计算机很笨\"。\n",
    "就因为他笨，所以你当在交代他做事的时候，你必须把事情描述的非常非常仔细，包含所有细节。\n",
    "不要期望計算機有聰明到可以讀懂你的心，不，他不行。除非你把事情交代清楚，否則他只會出錯！\n"
   ]
  },
  {
   "cell_type": "markdown",
   "metadata": {},
   "source": [
    "# 使用这套教程"
   ]
  }
 ],
 "metadata": {
  "language_info": {
   "codemirror_mode": {
    "name": "ipython",
    "version": 3
   },
   "file_extension": ".py",
   "mimetype": "text/x-python",
   "name": "python",
   "nbconvert_exporter": "python",
   "pygments_lexer": "ipython3",
   "version": 3
  },
  "orig_nbformat": 2
 },
 "nbformat": 4,
 "nbformat_minor": 2
}